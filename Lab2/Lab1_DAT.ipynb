{
 "cells": [
  {
   "cell_type": "markdown",
   "metadata": {
    "id": "Y5DQ-6AGuaH2"
   },
   "source": [
    "2d) Сформировать список просмотра из заданного количества фильмов указанного жанра. Порядок фильмов определяется случайным образом."
   ]
  },
  {
   "cell_type": "code",
   "execution_count": 2,
   "metadata": {
    "id": "3bV68OYauSEe"
   },
   "outputs": [],
   "source": [
    "from lxml import etree\n",
    "import random"
   ]
  },
  {
   "cell_type": "code",
   "execution_count": 3,
   "metadata": {
    "id": "yECV-SkCuf4l"
   },
   "outputs": [],
   "source": [
    "tree = etree.parse(\"Movies.xml\")"
   ]
  },
  {
   "cell_type": "code",
   "execution_count": 16,
   "metadata": {
    "colab": {
     "base_uri": "https://localhost:8080/"
    },
    "id": "CuWAYt_2vDGq",
    "outputId": "248dab7f-84a8-49f9-961f-dac061e9e911"
   },
   "outputs": [
    {
     "name": "stdout",
     "output_type": "stream",
     "text": [
      "<movie>\n",
      "        <title>Иван Васильевич меняет профессию</title>\n",
      "        <genre>Комедия</genre>\n",
      "        <director>Леонид Гайдай</director>\n",
      "        <composer>Александр Зацепин</composer>\n",
      "        <actors>\n",
      "            <actor>Юрий Яковлев</actor>\n",
      "            <actor>Леонид Куравлёв</actor>\n",
      "            <actor>Александра Яковлева</actor>\n",
      "            <actor>Владимир Этуш</actor>\n",
      "            <actor>Сергей Филиппов</actor>\n",
      "            <actor>Любовь Мышева</actor>\n",
      "            <actor>Иван Жеваго</actor>\n",
      "        </actors>\n",
      "        <date>1973-09-17</date>\n",
      "        <money>16000000</money>\n",
      "        <ageRestriction>0+</ageRestriction>\n",
      "        <audienceCount>60000000</audienceCount>\n",
      "        <language>Русский</language>\n",
      "    </movie>\n",
      "\n",
      "<movie>\n",
      "        <title>Ёлки</title>\n",
      "        <genre>Комедия</genre>\n",
      "        <director>Тимур Бекмамбетов</director>\n",
      "        <composer>Павел Есенин</composer>\n",
      "        <actors>\n",
      "            <actor>Иван Ургант</actor>\n",
      "            <actor>Сергей Светлаков</actor>\n",
      "            <actor>Вера Брежнева</actor>\n",
      "            <actor>Константин Хабенский</actor>\n",
      "            <actor>Александр Головин</actor>\n",
      "            <actor>Мария Порошина</actor>\n",
      "        </actors>\n",
      "        <date>2010-12-16</date>\n",
      "        <money>22300000</money>\n",
      "        <ageRestriction>6+</ageRestriction>\n",
      "        <audienceCount>15000000</audienceCount>\n",
      "        <language>Русский</language>\n",
      "    </movie>\n",
      "    \n"
     ]
    }
   ],
   "source": [
    "count, genre = 2, \"Комедия\"\n",
    "movies = tree.xpath(f\"//movie[genre = \\\"{genre}\\\"][position() <= {count}]\")\n",
    "random.shuffle(movies)\n",
    "for movie in movies:\n",
    "  print(etree.tostring(movie, encoding=str))"
   ]
  },
  {
   "cell_type": "markdown",
   "metadata": {
    "id": "IDP6eJAlAe2a"
   },
   "source": [
    "3) Описать DTD схему для разработанного формата. Произвести валидацию xml-документа."
   ]
  },
  {
   "cell_type": "code",
   "execution_count": 17,
   "metadata": {
    "colab": {
     "base_uri": "https://localhost:8080/"
    },
    "id": "3MpEQQrZAdKm",
    "outputId": "8ed714f2-405f-4a05-b679-48cb702c1fe6"
   },
   "outputs": [
    {
     "name": "stdout",
     "output_type": "stream",
     "text": [
      "True\n"
     ]
    }
   ],
   "source": [
    "with open('XML.dtd') as dtd_file:\n",
    "  dtd = etree.DTD(dtd_file)\n",
    "print(dtd.validate(tree))"
   ]
  },
  {
   "cell_type": "markdown",
   "metadata": {
    "id": "AAEj2ihJSv8M"
   },
   "source": [
    "4) Описать XML Schema для разработанного формата. Произвести валидацию xml-документа."
   ]
  },
  {
   "cell_type": "code",
   "execution_count": 18,
   "metadata": {
    "colab": {
     "base_uri": "https://localhost:8080/"
    },
    "id": "8LHjAxEaQt5g",
    "outputId": "e92f11dc-c41b-4318-c0e0-a01aabecce7f"
   },
   "outputs": [
    {
     "name": "stdout",
     "output_type": "stream",
     "text": [
      "True\n"
     ]
    }
   ],
   "source": [
    "with open('XML.xsd') as xsd_file:\n",
    "  xsd = etree.parse(xsd_file)\n",
    "xmlschema = etree.XMLSchema(xsd)\n",
    "print(xmlschema.validate(tree))"
   ]
  },
  {
   "cell_type": "markdown",
   "metadata": {
    "id": "NNRc7eT85Xao"
   },
   "source": [
    "5) Описать XSLT-преобразование xml-документа в текстовый вид (*.txt)."
   ]
  },
  {
   "cell_type": "code",
   "execution_count": 19,
   "metadata": {
    "colab": {
     "base_uri": "https://localhost:8080/"
    },
    "id": "vdo_mNg35Xxt",
    "outputId": "b822c536-74b1-4b21-ce45-700505a7d743"
   },
   "outputs": [
    {
     "name": "stdout",
     "output_type": "stream",
     "text": [
      "Фильм: Брат\n",
      "Жанр: Боевик\n",
      "Режиссёр: Алексей Балабанов\n",
      "Композитор: Вячеслав Бутусов\n",
      "Актёры: Сергей Бодров — младший, Виктор Сухоруков, Дарья Юргенс, Алексей Балабанов\n",
      "Дата выхода: 1997-12-12\n",
      "Возрастное ограничение: 18+\n",
      "Количество зрителей: 10000000\n",
      "\n",
      "Фильм: Ёлки\n",
      "Жанр: Комедия\n",
      "Режиссёр: Тимур Бекмамбетов\n",
      "Композитор: Павел Есенин\n",
      "Актёры: Иван Ургант, Сергей Светлаков, Вера Брежнева, Константин Хабенский, Александр Головин, Мария Порошина\n",
      "Дата выхода: 2010-12-16\n",
      "Возрастное ограничение: 6+\n",
      "Количество зрителей: 15000000\n",
      "\n",
      "Фильм: А зори здесь тихие\n",
      "Жанр: Военный\n",
      "Режиссёр: Ренат Давлетьяров\n",
      "Композитор: Юрий Потеенко\n",
      "Актёры: Пётр Фёдоров, Анастасия Микульчина, Софья Лебедева\n",
      "Дата выхода: 2015-04-30\n",
      "Возрастное ограничение: 12+\n",
      "Количество зрителей: 2000000\n",
      "\n",
      "Фильм: Левиафан\n",
      "Жанр: Драма\n",
      "Режиссёр: Андрей Звягинцев\n",
      "Композитор: Филипп Гласс\n",
      "Актёры: Алексей Серебряков, Елена Лядова, Владимир Вдовиченков, Роман Мадянов, Анна Уколова\n",
      "Дата выхода: 2015-04-30\n",
      "Возрастное ограничение: 12+\n",
      "Количество зрителей: 2000000\n",
      "\n",
      "Фильм: Иван Васильевич меняет профессию\n",
      "Жанр: Комедия\n",
      "Режиссёр: Леонид Гайдай\n",
      "Композитор: Александр Зацепин\n",
      "Актёры: Юрий Яковлев, Леонид Куравлёв, Александра Яковлева, Владимир Этуш, Сергей Филиппов, Любовь Мышева, Иван Жеваго\n",
      "Дата выхода: 1973-09-17\n",
      "Возрастное ограничение: 0+\n",
      "Количество зрителей: 60000000\n",
      "\n",
      "\n"
     ]
    }
   ],
   "source": [
    "with open('XML.xsl') as xslt_file:\n",
    "  xslt = etree.parse(xslt_file)\n",
    "\n",
    "transform = etree.XSLT(xslt)\n",
    "tree_txt = transform(tree)\n",
    "\n",
    "print(tree_txt)\n",
    "tree_txt.write_output(\"output_txt.txt\")"
   ]
  },
  {
   "cell_type": "markdown",
   "metadata": {
    "id": "U6WRq-cOa6co"
   },
   "source": [
    "6) Описать XSLT-преобразование xml-документа в html-страницу (информация должна быть представлена в табличном виде), при оформлении таблицы использовать стили."
   ]
  },
  {
   "cell_type": "code",
   "execution_count": 20,
   "metadata": {
    "colab": {
     "base_uri": "https://localhost:8080/"
    },
    "id": "1gRrMkmAa6ts",
    "outputId": "0cbf76c8-b061-4c78-cc7c-710e541d6ef5"
   },
   "outputs": [
    {
     "name": "stdout",
     "output_type": "stream",
     "text": [
      "<html>\n",
      "<head>\n",
      "<meta http-equiv=\"Content-Type\" content=\"text/html; charset=utf8\">\n",
      "<style>\n",
      "                    table { border-collapse: collapse; width: 100%; }\n",
      "                    th, td { border: 1px solid black; padding: 8px; text-align: left; }\n",
      "                </style>\n",
      "</head>\n",
      "<body><table>\n",
      "<thead><tr>\n",
      "<th>Название</th>\n",
      "<th>Жанр</th>\n",
      "<th>Режиссёр</th>\n",
      "<th>Композитор</th>\n",
      "<th>Актёры</th>\n",
      "<th>Дата выхода</th>\n",
      "<th>Сборы</th>\n",
      "<th>Возраст</th>\n",
      "<th>Язык</th>\n",
      "</tr></thead>\n",
      "<tbody>\n",
      "<tr>\n",
      "<td>Брат</td>\n",
      "<td>Боевик</td>\n",
      "<td>Алексей Балабанов</td>\n",
      "<td>Вячеслав Бутусов</td>\n",
      "<td>Сергей Бодров — младший, Виктор Сухоруков, Дарья Юргенс, Алексей Балабанов</td>\n",
      "<td>1997-12-12</td>\n",
      "<td>1530937</td>\n",
      "<td>18+</td>\n",
      "<td>Русский</td>\n",
      "</tr>\n",
      "<tr>\n",
      "<td>Ёлки</td>\n",
      "<td>Комедия</td>\n",
      "<td>Тимур Бекмамбетов</td>\n",
      "<td>Павел Есенин</td>\n",
      "<td>Иван Ургант, Сергей Светлаков, Вера Брежнева, Константин Хабенский, Александр Головин, Мария Порошина</td>\n",
      "<td>2010-12-16</td>\n",
      "<td>22300000</td>\n",
      "<td>6+</td>\n",
      "<td>Русский</td>\n",
      "</tr>\n",
      "<tr>\n",
      "<td>А зори здесь тихие</td>\n",
      "<td>Военный</td>\n",
      "<td>Ренат Давлетьяров</td>\n",
      "<td>Юрий Потеенко</td>\n",
      "<td>Пётр Фёдоров, Анастасия Микульчина, Софья Лебедева</td>\n",
      "<td>2015-04-30</td>\n",
      "<td>8500000</td>\n",
      "<td>12+</td>\n",
      "<td>Русский</td>\n",
      "</tr>\n",
      "<tr>\n",
      "<td>Левиафан</td>\n",
      "<td>Драма</td>\n",
      "<td>Андрей Звягинцев</td>\n",
      "<td>Филипп Гласс</td>\n",
      "<td>Алексей Серебряков, Елена Лядова, Владимир Вдовиченков, Роман Мадянов, Анна Уколова</td>\n",
      "<td>2015-04-30</td>\n",
      "<td>8500000</td>\n",
      "<td>12+</td>\n",
      "<td>Русский</td>\n",
      "</tr>\n",
      "<tr>\n",
      "<td>Иван Васильевич меняет профессию</td>\n",
      "<td>Комедия</td>\n",
      "<td>Леонид Гайдай</td>\n",
      "<td>Александр Зацепин</td>\n",
      "<td>Юрий Яковлев, Леонид Куравлёв, Александра Яковлева, Владимир Этуш, Сергей Филиппов, Любовь Мышева, Иван Жеваго</td>\n",
      "<td>1973-09-17</td>\n",
      "<td>16000000</td>\n",
      "<td>0+</td>\n",
      "<td>Русский</td>\n",
      "</tr>\n",
      "</tbody>\n",
      "</table></body>\n",
      "</html>\n",
      "\n"
     ]
    }
   ],
   "source": [
    "with open('XML_HTML.xsl') as xslt_html_file:\n",
    "  xslt_html = etree.parse(xslt_html_file)\n",
    "\n",
    "transform = etree.XSLT(xslt_html)\n",
    "tree_html = transform(tree)\n",
    "\n",
    "print(tree_html)\n",
    "tree_html.write_output(\"output.html\")"
   ]
  },
  {
   "cell_type": "markdown",
   "metadata": {
    "id": "Mxm5ZWB1YOEW"
   },
   "source": [
    "7) Разработать программу на любом языке программирования (Python, С#, Java) для выполнения XSLT-преобразования (сделано выше) и разработанных xPath-запросов."
   ]
  },
  {
   "cell_type": "code",
   "execution_count": 21,
   "metadata": {
    "colab": {
     "base_uri": "https://localhost:8080/"
    },
    "id": "k6mw0nxpYORJ",
    "outputId": "001e8416-e86b-4e52-eeaa-2d57afc4ed62"
   },
   "outputs": [
    {
     "name": "stdout",
     "output_type": "stream",
     "text": [
      "1. Ёлки\n",
      "2. Иван Васильевич меняет профессию\n"
     ]
    }
   ],
   "source": [
    "# Получить все фильмы указанного жанра (задается в запросе константой).\n",
    "\n",
    "genre = \"Комедия\"\n",
    "selected_movies = tree.xpath(f'//movie[genre=\"{genre}\"]')\n",
    "i = 1\n",
    "for movie in selected_movies:\n",
    "  name = movie.find('title').text\n",
    "  print(f'{i}. {name}')\n",
    "  i += 1"
   ]
  },
  {
   "cell_type": "code",
   "execution_count": 22,
   "metadata": {
    "colab": {
     "base_uri": "https://localhost:8080/"
    },
    "id": "Y4kSR49hTFdN",
    "outputId": "cddc1182-5e0a-4071-b5e3-fbf0159c86fa"
   },
   "outputs": [
    {
     "name": "stdout",
     "output_type": "stream",
     "text": [
      "1. <movie>\n",
      "        <title>Ёлки</title>\n",
      "        <genre>Комедия</genre>\n",
      "        <director>Тимур Бекмамбетов</director>\n",
      "        <composer>Павел Есенин</composer>\n",
      "        <actors>\n",
      "            <actor>Иван Ургант</actor>\n",
      "            <actor>Сергей Светлаков</actor>\n",
      "            <actor>Вера Брежнева</actor>\n",
      "            <actor>Константин Хабенский</actor>\n",
      "            <actor>Александр Головин</actor>\n",
      "            <actor>Мария Порошина</actor>\n",
      "        </actors>\n",
      "        <date>2010-12-16</date>\n",
      "        <money>22300000</money>\n",
      "        <ageRestriction>6+</ageRestriction>\n",
      "        <audienceCount>15000000</audienceCount>\n",
      "        <language>Русский</language>\n",
      "    </movie>\n",
      "    \n",
      "2. <movie>\n",
      "        <title>Иван Васильевич меняет профессию</title>\n",
      "        <genre>Комедия</genre>\n",
      "        <director>Леонид Гайдай</director>\n",
      "        <composer>Александр Зацепин</composer>\n",
      "        <actors>\n",
      "            <actor>Юрий Яковлев</actor>\n",
      "            <actor>Леонид Куравлёв</actor>\n",
      "            <actor>Александра Яковлева</actor>\n",
      "            <actor>Владимир Этуш</actor>\n",
      "            <actor>Сергей Филиппов</actor>\n",
      "            <actor>Любовь Мышева</actor>\n",
      "            <actor>Иван Жеваго</actor>\n",
      "        </actors>\n",
      "        <date>1973-09-17</date>\n",
      "        <money>16000000</money>\n",
      "        <ageRestriction>0+</ageRestriction>\n",
      "        <audienceCount>60000000</audienceCount>\n",
      "        <language>Русский</language>\n",
      "    </movie>\n",
      "\n"
     ]
    }
   ],
   "source": [
    "# Получить все фильмы с актерским составом более пяти человек.\n",
    "\n",
    "selected_movies = tree.xpath('//movie[count(actors/actor) > 5]')\n",
    "i = 1\n",
    "for movie in selected_movies:\n",
    "  curr_movie = etree.tostring(movie, encoding=str)\n",
    "  print(f'{i}. {curr_movie}')\n",
    "  i += 1"
   ]
  },
  {
   "cell_type": "code",
   "execution_count": 23,
   "metadata": {
    "colab": {
     "base_uri": "https://localhost:8080/"
    },
    "id": "evBdA5GOT66B",
    "outputId": "2a6539ae-a579-47ab-a942-d063e5de3f3b"
   },
   "outputs": [
    {
     "name": "stdout",
     "output_type": "stream",
     "text": [
      "1. <movie>\n",
      "        <title>Брат</title>\n",
      "        <genre>Боевик</genre>\n",
      "        <director>Алексей Балабанов</director>\n",
      "        <composer>Вячеслав Бутусов</composer>\n",
      "        <actors>\n",
      "            <actor>Сергей Бодров — младший</actor>\n",
      "            <actor>Виктор Сухоруков</actor>\n",
      "            <actor>Дарья Юргенс</actor>\n",
      "            <actor>Алексей Балабанов</actor>\n",
      "        </actors>\n",
      "        <date>1997-12-12</date>\n",
      "        <money>1530937</money>\n",
      "        <ageRestriction>18+</ageRestriction>\n",
      "        <audienceCount>10000000</audienceCount>\n",
      "        <language>Русский</language>\n",
      "    </movie>\n",
      "    \n"
     ]
    }
   ],
   "source": [
    "# Получить все фильмы, в которых указанный человек (задается в запросе константой)\n",
    "# является и режиссером, и актером одновременно.\n",
    "\n",
    "person = \"Алексей Балабанов\"\n",
    "selected_movies = tree.xpath(f'//movie[director=\"{person}\" and actors/actor[contains(., \"{person}\")]]')\n",
    "i = 1\n",
    "for movie in selected_movies:\n",
    "  curr_movie = etree.tostring(movie, encoding=str)\n",
    "  print(f'{i}. {curr_movie}')\n",
    "  i += 1"
   ]
  },
  {
   "cell_type": "code",
   "execution_count": 24,
   "metadata": {
    "colab": {
     "base_uri": "https://localhost:8080/"
    },
    "id": "WN1f8X6SVwns",
    "outputId": "cffbc6f0-dd39-47bf-8430-49f4313cd670"
   },
   "outputs": [
    {
     "name": "stdout",
     "output_type": "stream",
     "text": [
      "46800000.0\n"
     ]
    }
   ],
   "source": [
    "# Собственный запрос с использование минимум двух функций\n",
    "# count(), contains(), position(), sum() и др.\n",
    "\n",
    "print(tree.xpath('sum(//movie[count(actors/actor) > 4]/money)'))"
   ]
  },
  {
   "cell_type": "markdown",
   "metadata": {
    "id": "qwozgzero0vz"
   },
   "source": [
    "8) Решить аналогичные задачи для формата JSON."
   ]
  },
  {
   "cell_type": "code",
   "execution_count": 25,
   "metadata": {
    "id": "JfQj73pDo6Pi"
   },
   "outputs": [],
   "source": [
    "import json"
   ]
  },
  {
   "cell_type": "code",
   "execution_count": 26,
   "metadata": {
    "colab": {
     "base_uri": "https://localhost:8080/"
    },
    "id": "rvnRI22jlGKV",
    "outputId": "102c8b73-57b6-4331-ef3a-9d803cd0e76c"
   },
   "outputs": [
    {
     "name": "stdout",
     "output_type": "stream",
     "text": [
      "{'movies': {'movie': [{'title': 'Брат', 'genre': 'Боевик', 'director': 'Алексей Балабанов', 'composer': 'Вячеслав Бутусов', 'actors': {'actor': ['Сергей Бодров — младший', 'Виктор Сухоруков', 'Дарья Юргенс', 'Алексей Балабанов']}, 'date': '1997-12-12', 'money': '1530937', 'ageRestriction': '18+', 'audienceCount': '10000000', 'language': 'Русский'}, {'title': 'Ёлки', 'genre': 'Комедия', 'director': 'Тимур Бекмамбетов', 'composer': 'Павел Есенин', 'actors': {'actor': ['Иван Ургант', 'Сергей Светлаков', 'Вера Брежнева', 'Константин Хабенский', 'Александр Головин', 'Мария Порошина']}, 'date': '2010-12-16', 'money': '22300000', 'ageRestriction': '6+', 'audienceCount': '15000000', 'language': 'Русский'}, {'title': 'А зори здесь тихие', 'genre': 'Военный', 'director': 'Ренат Давлетьяров', 'composer': 'Юрий Потеенко', 'actors': {'actor': ['Пётр Фёдоров', 'Анастасия Микульчина', 'Софья Лебедева']}, 'date': '2015-04-30', 'money': '8500000', 'ageRestriction': '12+', 'audienceCount': '2000000', 'language': 'Русский'}, {'title': 'Левиафан', 'genre': 'Драма', 'director': 'Андрей Звягинцев', 'composer': 'Филипп Гласс', 'actors': {'actor': ['Алексей Серебряков', 'Елена Лядова', 'Владимир Вдовиченков', 'Роман Мадянов', 'Анна Уколова']}, 'date': '2015-04-30', 'money': '8500000', 'ageRestriction': '12+', 'audienceCount': '2000000', 'language': 'Русский'}, {'title': 'Иван Васильевич меняет профессию', 'genre': 'Комедия', 'director': 'Леонид Гайдай', 'composer': 'Александр Зацепин', 'actors': {'actor': ['Юрий Яковлев', 'Леонид Куравлёв', 'Александра Яковлева', 'Владимир Этуш', 'Сергей Филиппов', 'Любовь Мышева', 'Иван Жеваго']}, 'date': '1973-09-17', 'money': '16000000', 'ageRestriction': '0+', 'audienceCount': '60000000', 'language': 'Русский'}]}}\n"
     ]
    }
   ],
   "source": [
    "with open('Movies.json') as json_file:\n",
    "    js_file = json.load(json_file)\n",
    "print(js_file)"
   ]
  },
  {
   "cell_type": "code",
   "execution_count": 27,
   "metadata": {
    "colab": {
     "base_uri": "https://localhost:8080/"
    },
    "id": "-V7WIMlvpIgi",
    "outputId": "e213e5b2-94df-4b9e-ee59-1a546af36cc3"
   },
   "outputs": [
    {
     "name": "stdout",
     "output_type": "stream",
     "text": [
      "Ёлки\n",
      "Иван Васильевич меняет профессию\n"
     ]
    }
   ],
   "source": [
    "for movie in js_file['movies']['movie']:\n",
    "  print(movie['title']) if len(movie['actors']['actor']) > 5 else ''"
   ]
  },
  {
   "cell_type": "code",
   "execution_count": 72,
   "metadata": {
    "id": "3AF0bot-v1VA"
   },
   "outputs": [],
   "source": [
    "from jsonpath_ng.ext import parse"
   ]
  },
  {
   "cell_type": "code",
   "execution_count": 83,
   "metadata": {
    "colab": {
     "base_uri": "https://localhost:8080/"
    },
    "id": "PtFCv9F5v3n-",
    "outputId": "df5c2055-6978-41b3-f532-15d10a5287f5"
   },
   "outputs": [
    {
     "name": "stdout",
     "output_type": "stream",
     "text": [
      "Иван Васильевич меняет профессию\n",
      "Ёлки\n"
     ]
    }
   ],
   "source": [
    "genre, count = \"Комедия\", 2\n",
    "jsonpath_expr = parse(f\"$.movies.movie[?(@.genre == '{genre}')]\")\n",
    "movies_by_genre = [match.value for match in jsonpath_expr.find(js_file)][:count]\n",
    "random.shuffle(movies_by_genre)\n",
    "for movie in movies_by_genre:\n",
    "  print(movie['title'])"
   ]
  },
  {
   "cell_type": "code",
   "execution_count": 84,
   "metadata": {
    "id": "p-CuOU_9x52I"
   },
   "outputs": [],
   "source": [
    "from jsonschema import validate"
   ]
  },
  {
   "cell_type": "code",
   "execution_count": 85,
   "metadata": {
    "colab": {
     "base_uri": "https://localhost:8080/"
    },
    "id": "MA97z7_nwkVJ",
    "outputId": "5e84e3ca-9bd2-4f05-da76-8a38db914b87"
   },
   "outputs": [
    {
     "name": "stdout",
     "output_type": "stream",
     "text": [
      "None\n"
     ]
    }
   ],
   "source": [
    "with open('schema.json') as json_schema_file:\n",
    "    js_schema_file = json.load(json_schema_file)\n",
    "\n",
    "print(validate(js_file, js_schema_file))"
   ]
  },
  {
   "cell_type": "code",
   "execution_count": 86,
   "metadata": {
    "colab": {
     "base_uri": "https://localhost:8080/"
    },
    "id": "2NELGZsVyVDm",
    "outputId": "5023facd-847d-40ca-ced4-57a0cacb7d3e"
   },
   "outputs": [
    {
     "name": "stdout",
     "output_type": "stream",
     "text": [
      "Ёлки\n",
      "Иван Васильевич меняет профессию\n"
     ]
    }
   ],
   "source": [
    "# Получить все фильмы указанного жанра\n",
    "\n",
    "genre = \"Комедия\"\n",
    "for movie in js_file['movies']['movie']:\n",
    "  print(movie['title']) if movie['genre'] == genre else ''"
   ]
  },
  {
   "cell_type": "code",
   "execution_count": 91,
   "metadata": {
    "colab": {
     "base_uri": "https://localhost:8080/"
    },
    "id": "tyT6K32byoGE",
    "outputId": "099067a5-2ea8-4d97-f2cf-511314b54c12"
   },
   "outputs": [
    {
     "name": "stdout",
     "output_type": "stream",
     "text": [
      "Брат\n"
     ]
    }
   ],
   "source": [
    "# c)\tПолучить все фильмы, в которых указанный человек\n",
    "# (задается в запросе константой) является и режиссером, и актером одновременно\n",
    "\n",
    "person = \"Алексей Балабанов\"\n",
    "for movie in js_file['movies']['movie']:\n",
    "  actors_set = set(movie['actors']['actor'])\n",
    "  print(movie['title']) if movie['director'] == person and person in actors_set else ''"
   ]
  },
  {
   "cell_type": "code",
   "execution_count": 94,
   "metadata": {
    "colab": {
     "base_uri": "https://localhost:8080/"
    },
    "id": "K5ZwTFZM07Cu",
    "outputId": "3655f3e2-b5ad-41fa-81ef-875c26232bea"
   },
   "outputs": [
    {
     "name": "stdout",
     "output_type": "stream",
     "text": [
      "А зори здесь тихие\n",
      "Левиафан\n"
     ]
    }
   ],
   "source": [
    "# Собственный запрос с использование минимум двух функций\n",
    "\n",
    "for movie in js_file['movies']['movie']:\n",
    "  print(movie['title']) if int(movie['money']) > 1000000 and movie['ageRestriction'] == \"12+\" else ''"
   ]
  }
 ],
 "metadata": {
  "colab": {
   "provenance": []
  },
  "kernelspec": {
   "display_name": "Python 3",
   "name": "python3"
  },
  "language_info": {
   "codemirror_mode": {
    "name": "ipython",
    "version": 3
   },
   "file_extension": ".py",
   "mimetype": "text/x-python",
   "name": "python",
   "nbconvert_exporter": "python",
   "pygments_lexer": "ipython3",
   "version": "3.10.0"
  }
 },
 "nbformat": 4,
 "nbformat_minor": 0
}
